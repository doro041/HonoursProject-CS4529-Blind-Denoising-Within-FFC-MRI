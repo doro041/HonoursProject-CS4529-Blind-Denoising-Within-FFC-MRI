{
 "cells": [
  {
   "cell_type": "code",
   "execution_count": 4,
   "metadata": {},
   "outputs": [
    {
     "ename": "OSError",
     "evalue": "ImageIO does not generally support reading folders. Limited support may be available via specific plugins. Specify the plugin explicitly using the `plugin` kwarg, e.g. `plugin='DICOM'`",
     "output_type": "error",
     "traceback": [
      "\u001b[0;31m---------------------------------------------------------------------------\u001b[0m",
      "\u001b[0;31mOSError\u001b[0m                                   Traceback (most recent call last)",
      "Cell \u001b[0;32mIn[4], line 64\u001b[0m\n\u001b[1;32m     61\u001b[0m     plt\u001b[38;5;241m.\u001b[39mshow()\n\u001b[1;32m     63\u001b[0m noisy_image_data\u001b[38;5;241m=\u001b[39m \u001b[38;5;124m'\u001b[39m\u001b[38;5;124m../TraditionalMethods/PhantomData/200mT\u001b[39m\u001b[38;5;124m'\u001b[39m\n\u001b[0;32m---> 64\u001b[0m \u001b[43mdenoise_and_plot\u001b[49m\u001b[43m(\u001b[49m\u001b[43mnoisy_image_data\u001b[49m\u001b[43m)\u001b[49m\n",
      "Cell \u001b[0;32mIn[4], line 38\u001b[0m, in \u001b[0;36mdenoise_and_plot\u001b[0;34m(image_path)\u001b[0m\n\u001b[1;32m     37\u001b[0m \u001b[38;5;28;01mdef\u001b[39;00m \u001b[38;5;21mdenoise_and_plot\u001b[39m(image_path):\n\u001b[0;32m---> 38\u001b[0m     noisy_image_gray \u001b[38;5;241m=\u001b[39m \u001b[43mimread\u001b[49m\u001b[43m(\u001b[49m\u001b[43mimage_path\u001b[49m\u001b[43m,\u001b[49m\u001b[43m \u001b[49m\u001b[43mas_gray\u001b[49m\u001b[38;5;241;43m=\u001b[39;49m\u001b[38;5;28;43;01mTrue\u001b[39;49;00m\u001b[43m)\u001b[49m  \u001b[38;5;66;03m# Load and convert to grayscale\u001b[39;00m\n\u001b[1;32m     40\u001b[0m     sigma_est \u001b[38;5;241m=\u001b[39m np\u001b[38;5;241m.\u001b[39mmean(estimate_sigma(noisy_image_gray))\n\u001b[1;32m     41\u001b[0m     h, patch_size, patch_distance \u001b[38;5;241m=\u001b[39m adjust_denoising_parameters(sigma_est)\n",
      "File \u001b[0;32m~/opt/anaconda3/lib/python3.9/site-packages/skimage/io/_io.py:53\u001b[0m, in \u001b[0;36mimread\u001b[0;34m(fname, as_gray, plugin, **plugin_args)\u001b[0m\n\u001b[1;32m     50\u001b[0m         plugin \u001b[38;5;241m=\u001b[39m \u001b[38;5;124m'\u001b[39m\u001b[38;5;124mtifffile\u001b[39m\u001b[38;5;124m'\u001b[39m\n\u001b[1;32m     52\u001b[0m \u001b[38;5;28;01mwith\u001b[39;00m file_or_url_context(fname) \u001b[38;5;28;01mas\u001b[39;00m fname:\n\u001b[0;32m---> 53\u001b[0m     img \u001b[38;5;241m=\u001b[39m \u001b[43mcall_plugin\u001b[49m\u001b[43m(\u001b[49m\u001b[38;5;124;43m'\u001b[39;49m\u001b[38;5;124;43mimread\u001b[39;49m\u001b[38;5;124;43m'\u001b[39;49m\u001b[43m,\u001b[49m\u001b[43m \u001b[49m\u001b[43mfname\u001b[49m\u001b[43m,\u001b[49m\u001b[43m \u001b[49m\u001b[43mplugin\u001b[49m\u001b[38;5;241;43m=\u001b[39;49m\u001b[43mplugin\u001b[49m\u001b[43m,\u001b[49m\u001b[43m \u001b[49m\u001b[38;5;241;43m*\u001b[39;49m\u001b[38;5;241;43m*\u001b[39;49m\u001b[43mplugin_args\u001b[49m\u001b[43m)\u001b[49m\n\u001b[1;32m     55\u001b[0m \u001b[38;5;28;01mif\u001b[39;00m \u001b[38;5;129;01mnot\u001b[39;00m \u001b[38;5;28mhasattr\u001b[39m(img, \u001b[38;5;124m'\u001b[39m\u001b[38;5;124mndim\u001b[39m\u001b[38;5;124m'\u001b[39m):\n\u001b[1;32m     56\u001b[0m     \u001b[38;5;28;01mreturn\u001b[39;00m img\n",
      "File \u001b[0;32m~/opt/anaconda3/lib/python3.9/site-packages/skimage/io/manage_plugins.py:205\u001b[0m, in \u001b[0;36mcall_plugin\u001b[0;34m(kind, *args, **kwargs)\u001b[0m\n\u001b[1;32m    202\u001b[0m     \u001b[38;5;28;01mexcept\u001b[39;00m \u001b[38;5;167;01mIndexError\u001b[39;00m:\n\u001b[1;32m    203\u001b[0m         \u001b[38;5;28;01mraise\u001b[39;00m \u001b[38;5;167;01mRuntimeError\u001b[39;00m(\u001b[38;5;124mf\u001b[39m\u001b[38;5;124m'\u001b[39m\u001b[38;5;124mCould not find the plugin \u001b[39m\u001b[38;5;124m\"\u001b[39m\u001b[38;5;132;01m{\u001b[39;00mplugin\u001b[38;5;132;01m}\u001b[39;00m\u001b[38;5;124m\"\u001b[39m\u001b[38;5;124m for \u001b[39m\u001b[38;5;132;01m{\u001b[39;00mkind\u001b[38;5;132;01m}\u001b[39;00m\u001b[38;5;124m.\u001b[39m\u001b[38;5;124m'\u001b[39m)\n\u001b[0;32m--> 205\u001b[0m \u001b[38;5;28;01mreturn\u001b[39;00m \u001b[43mfunc\u001b[49m\u001b[43m(\u001b[49m\u001b[38;5;241;43m*\u001b[39;49m\u001b[43margs\u001b[49m\u001b[43m,\u001b[49m\u001b[43m \u001b[49m\u001b[38;5;241;43m*\u001b[39;49m\u001b[38;5;241;43m*\u001b[39;49m\u001b[43mkwargs\u001b[49m\u001b[43m)\u001b[49m\n",
      "File \u001b[0;32m~/opt/anaconda3/lib/python3.9/site-packages/skimage/io/_plugins/imageio_plugin.py:11\u001b[0m, in \u001b[0;36mimread\u001b[0;34m(*args, **kwargs)\u001b[0m\n\u001b[1;32m      9\u001b[0m \u001b[38;5;129m@wraps\u001b[39m(imageio_imread)\n\u001b[1;32m     10\u001b[0m \u001b[38;5;28;01mdef\u001b[39;00m \u001b[38;5;21mimread\u001b[39m(\u001b[38;5;241m*\u001b[39margs, \u001b[38;5;241m*\u001b[39m\u001b[38;5;241m*\u001b[39mkwargs):\n\u001b[0;32m---> 11\u001b[0m     out \u001b[38;5;241m=\u001b[39m np\u001b[38;5;241m.\u001b[39masarray(\u001b[43mimageio_imread\u001b[49m\u001b[43m(\u001b[49m\u001b[38;5;241;43m*\u001b[39;49m\u001b[43margs\u001b[49m\u001b[43m,\u001b[49m\u001b[43m \u001b[49m\u001b[38;5;241;43m*\u001b[39;49m\u001b[38;5;241;43m*\u001b[39;49m\u001b[43mkwargs\u001b[49m\u001b[43m)\u001b[49m)\n\u001b[1;32m     12\u001b[0m     \u001b[38;5;28;01mif\u001b[39;00m \u001b[38;5;129;01mnot\u001b[39;00m out\u001b[38;5;241m.\u001b[39mflags[\u001b[38;5;124m'\u001b[39m\u001b[38;5;124mWRITEABLE\u001b[39m\u001b[38;5;124m'\u001b[39m]:\n\u001b[1;32m     13\u001b[0m         out \u001b[38;5;241m=\u001b[39m out\u001b[38;5;241m.\u001b[39mcopy()\n",
      "File \u001b[0;32m~/opt/anaconda3/lib/python3.9/site-packages/imageio/v3.py:53\u001b[0m, in \u001b[0;36mimread\u001b[0;34m(uri, index, plugin, extension, format_hint, **kwargs)\u001b[0m\n\u001b[1;32m     50\u001b[0m \u001b[38;5;28;01mif\u001b[39;00m index \u001b[38;5;129;01mis\u001b[39;00m \u001b[38;5;129;01mnot\u001b[39;00m \u001b[38;5;28;01mNone\u001b[39;00m:\n\u001b[1;32m     51\u001b[0m     call_kwargs[\u001b[38;5;124m\"\u001b[39m\u001b[38;5;124mindex\u001b[39m\u001b[38;5;124m\"\u001b[39m] \u001b[38;5;241m=\u001b[39m index\n\u001b[0;32m---> 53\u001b[0m \u001b[38;5;28;01mwith\u001b[39;00m \u001b[43mimopen\u001b[49m\u001b[43m(\u001b[49m\u001b[43muri\u001b[49m\u001b[43m,\u001b[49m\u001b[43m \u001b[49m\u001b[38;5;124;43m\"\u001b[39;49m\u001b[38;5;124;43mr\u001b[39;49m\u001b[38;5;124;43m\"\u001b[39;49m\u001b[43m,\u001b[49m\u001b[43m \u001b[49m\u001b[38;5;241;43m*\u001b[39;49m\u001b[38;5;241;43m*\u001b[39;49m\u001b[43mplugin_kwargs\u001b[49m\u001b[43m)\u001b[49m \u001b[38;5;28;01mas\u001b[39;00m img_file:\n\u001b[1;32m     54\u001b[0m     \u001b[38;5;28;01mreturn\u001b[39;00m np\u001b[38;5;241m.\u001b[39masarray(img_file\u001b[38;5;241m.\u001b[39mread(\u001b[38;5;241m*\u001b[39m\u001b[38;5;241m*\u001b[39mcall_kwargs))\n",
      "File \u001b[0;32m~/opt/anaconda3/lib/python3.9/site-packages/imageio/core/imopen.py:223\u001b[0m, in \u001b[0;36mimopen\u001b[0;34m(uri, io_mode, plugin, extension, format_hint, legacy_mode, **kwargs)\u001b[0m\n\u001b[1;32m    217\u001b[0m     err_type \u001b[38;5;241m=\u001b[39m \u001b[38;5;167;01mValueError\u001b[39;00m \u001b[38;5;28;01mif\u001b[39;00m legacy_mode \u001b[38;5;28;01melse\u001b[39;00m \u001b[38;5;167;01mIOError\u001b[39;00m\n\u001b[1;32m    218\u001b[0m     err_msg \u001b[38;5;241m=\u001b[39m (\n\u001b[1;32m    219\u001b[0m         \u001b[38;5;124m\"\u001b[39m\u001b[38;5;124mImageIO does not generally support reading folders. \u001b[39m\u001b[38;5;124m\"\u001b[39m\n\u001b[1;32m    220\u001b[0m         \u001b[38;5;124m\"\u001b[39m\u001b[38;5;124mLimited support may be available via specific plugins. \u001b[39m\u001b[38;5;124m\"\u001b[39m\n\u001b[1;32m    221\u001b[0m         \u001b[38;5;124m\"\u001b[39m\u001b[38;5;124mSpecify the plugin explicitly using the `plugin` kwarg, e.g. `plugin=\u001b[39m\u001b[38;5;124m'\u001b[39m\u001b[38;5;124mDICOM\u001b[39m\u001b[38;5;124m'\u001b[39m\u001b[38;5;124m`\u001b[39m\u001b[38;5;124m\"\u001b[39m\n\u001b[1;32m    222\u001b[0m     )\n\u001b[0;32m--> 223\u001b[0m     \u001b[38;5;28;01mraise\u001b[39;00m err_type(err_msg)\n\u001b[1;32m    225\u001b[0m \u001b[38;5;66;03m# close the current request here and use fresh/new ones while trying each\u001b[39;00m\n\u001b[1;32m    226\u001b[0m \u001b[38;5;66;03m# plugin This is slow (means potentially reopening a resource several\u001b[39;00m\n\u001b[1;32m    227\u001b[0m \u001b[38;5;66;03m# times), but should only happen rarely because this is the fallback if all\u001b[39;00m\n\u001b[1;32m    228\u001b[0m \u001b[38;5;66;03m# else fails.\u001b[39;00m\n\u001b[1;32m    229\u001b[0m request\u001b[38;5;241m.\u001b[39mfinish()\n",
      "\u001b[0;31mOSError\u001b[0m: ImageIO does not generally support reading folders. Limited support may be available via specific plugins. Specify the plugin explicitly using the `plugin` kwarg, e.g. `plugin='DICOM'`"
     ]
    }
   ],
   "source": [
    "import numpy as np\n",
    "import matplotlib.pyplot as plt\n",
    "from skimage.restoration import estimate_sigma, denoise_nl_means\n",
    "from skimage.filters import threshold_otsu\n",
    "from skimage.segmentation import clear_border\n",
    "from skimage.measure import label, regionprops\n",
    "import os\n",
    "from skimage.io import imread  # For loading images\n",
    "\n",
    "def create_background_mask(image_gray):\n",
    "    thresh = threshold_otsu(image_gray)\n",
    "    binary_image = image_gray <= thresh\n",
    "    cleared_image = clear_border(binary_image)\n",
    "    label_image = label(cleared_image)\n",
    "    regions = regionprops(label_image)\n",
    "\n",
    "    largest_area = 0\n",
    "    background_label = 0\n",
    "    for region in regions:\n",
    "        if region.area > largest_area:\n",
    "            largest_area = region.area\n",
    "            background_label = region.label\n",
    "\n",
    "    background_mask = label_image == background_label\n",
    "    return background_mask\n",
    "\n",
    "def adjust_denoising_parameters(sigma_est):\n",
    "    if sigma_est <= 15:\n",
    "        return 0.6 * sigma_est, 7, 11\n",
    "    elif sigma_est <= 30:\n",
    "        return 0.9 * sigma_est, 5, 6\n",
    "    elif sigma_est <= 50:\n",
    "        return 0.2 * sigma_est, 9, 17\n",
    "    else:\n",
    "        return 0.4 * sigma_est, 11, 23\n",
    "\n",
    "def denoise_and_plot(image_path):\n",
    "    noisy_image_gray = imread(image_path, as_gray=True)  # Load and convert to grayscale\n",
    "\n",
    "    sigma_est = np.mean(estimate_sigma(noisy_image_gray))\n",
    "    h, patch_size, patch_distance = adjust_denoising_parameters(sigma_est)\n",
    "    background_mask = create_background_mask(noisy_image_gray)\n",
    "    std_deviation = np.std(noisy_image_gray[background_mask])\n",
    "    denoised_image = denoise_nl_means(noisy_image_gray, h=h, patch_size=patch_size,\n",
    "                                      patch_distance=patch_distance, fast_mode=True)\n",
    "\n",
    "    plt.figure(figsize=(10, 5))\n",
    "\n",
    "    plt.subplot(1, 2, 1)\n",
    "    plt.imshow(noisy_image_gray, cmap='gray')\n",
    "    plt.title('Noisy Image')\n",
    "    plt.axis('off')\n",
    "\n",
    "    plt.subplot(1, 2, 2)\n",
    "    plt.imshow(denoised_image, cmap='gray')\n",
    "    plt.title(f'Denoised Image (Std Dev: {std_deviation:.2f})')\n",
    "    plt.axis('off')\n",
    "\n",
    "    plt.tight_layout(pad=3.0)\n",
    "    plt.suptitle('Noisy Image and Denoised Image', fontsize=16)\n",
    "    plt.show()\n",
    "\n",
    "noisy_image_data= '../TraditionalMethods/PhantomData/200mT'\n",
    "denoise_and_plot(noisy_image_data)"
   ]
  }
 ],
 "metadata": {
  "kernelspec": {
   "display_name": "base",
   "language": "python",
   "name": "python3"
  },
  "language_info": {
   "codemirror_mode": {
    "name": "ipython",
    "version": 3
   },
   "file_extension": ".py",
   "mimetype": "text/x-python",
   "name": "python",
   "nbconvert_exporter": "python",
   "pygments_lexer": "ipython3",
   "version": "3.9.18"
  }
 },
 "nbformat": 4,
 "nbformat_minor": 2
}
